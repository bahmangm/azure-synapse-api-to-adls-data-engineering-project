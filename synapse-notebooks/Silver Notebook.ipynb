{
  "cells": [
    {
      "cell_type": "code",
      "source": [
        "import json\n",
        "from datetime import date, timedelta\n",
        "\n",
        "from pyspark.sql.functions import col, isnull, when\n",
        "from pyspark.sql.types import TimestampType"
      ],
      "outputs": [
        {
          "output_type": "display_data",
          "data": {
            "application/vnd.livy.statement-meta+json": {
              "spark_pool": "synapsesApache",
              "statement_id": 5,
              "statement_ids": [
                5
              ],
              "state": "finished",
              "livy_statement_state": "available",
              "spark_jobs": null,
              "session_id": "7",
              "normalized_state": "finished",
              "queued_time": "2025-04-04T17:59:21.5033658Z",
              "session_start_time": null,
              "execution_start_time": "2025-04-04T17:59:21.5046148Z",
              "execution_finish_time": "2025-04-04T17:59:21.7175034Z",
              "parent_msg_id": "bfab50be-eda6-4a1e-b402-5d90e69d3bd4"
            },
            "text/plain": "StatementMeta(synapsesApache, 7, 5, Finished, Available, Finished)"
          },
          "metadata": {}
        }
      ],
      "execution_count": 4,
      "metadata": {
        "tags": [
          "parameters"
        ]
      }
    },
    {
      "cell_type": "code",
      "source": [
        "# Parse the JSON string\n",
        "output_data = json.loads(bronze_output)\n",
        "\n",
        "# Access individual variables\n",
        "start_date = output_data.get(\"start_date\")\n",
        "silver_adls = output_data.get(\"silver_adls\")\n",
        "bronze_adls = output_data.get(\"bronze_adls\")\n",
        "\n",
        "# print(f\"Start Date: {start_date}\")\n",
        "# print(f\"Silver ADLS: {silver_adls}\")\n",
        "# print(f\"Bronze ADLS: {bronze_adls}\")"
      ],
      "outputs": [],
      "execution_count": null,
      "metadata": {}
    },
    {
      "cell_type": "code",
      "source": [
        "# Load the JSON data into a Spark DataFrame\n",
        "df = spark.read.option(\"multiline\", \"true\").json(f\"{bronze_adls}{start_date}_earthquake_data.json\")"
      ],
      "outputs": [
        {
          "output_type": "display_data",
          "data": {
            "application/vnd.livy.statement-meta+json": {
              "spark_pool": "synapsesApache",
              "statement_id": 9,
              "statement_ids": [
                9
              ],
              "state": "finished",
              "livy_statement_state": "available",
              "spark_jobs": null,
              "session_id": "7",
              "normalized_state": "finished",
              "queued_time": "2025-04-04T17:59:59.8767106Z",
              "session_start_time": null,
              "execution_start_time": "2025-04-04T17:59:59.877929Z",
              "execution_finish_time": "2025-04-04T18:00:10.4347695Z",
              "parent_msg_id": "bcbf6e6d-7ca8-4f7d-89c9-ae62ca67096a"
            },
            "text/plain": "StatementMeta(synapsesApache, 7, 9, Finished, Available, Finished)"
          },
          "metadata": {}
        }
      ],
      "execution_count": 8,
      "metadata": {}
    },
    {
      "cell_type": "code",
      "source": [
        "df"
      ],
      "outputs": [
        {
          "output_type": "display_data",
          "data": {
            "application/vnd.livy.statement-meta+json": {
              "spark_pool": "synapsesApache",
              "statement_id": 10,
              "statement_ids": [
                10
              ],
              "state": "finished",
              "livy_statement_state": "available",
              "spark_jobs": null,
              "session_id": "7",
              "normalized_state": "finished",
              "queued_time": "2025-04-04T18:00:26.5861786Z",
              "session_start_time": null,
              "execution_start_time": "2025-04-04T18:00:26.5872804Z",
              "execution_finish_time": "2025-04-04T18:00:26.828791Z",
              "parent_msg_id": "5c2c0ac3-2d66-449d-a0e2-270f6c28148a"
            },
            "text/plain": "StatementMeta(synapsesApache, 7, 10, Finished, Available, Finished)"
          },
          "metadata": {}
        },
        {
          "output_type": "execute_result",
          "execution_count": 21,
          "data": {
            "text/plain": "DataFrame[geometry: struct<coordinates:array<double>,type:string>, id: string, properties: struct<cdi:double,code:string,detail:string,dmin:double,felt:bigint,gap:double,ids:string,mag:double,magType:string,net:string,nst:bigint,place:string,rms:double,sig:bigint,sources:string,status:string,time:bigint,title:string,tsunami:bigint,type:string,types:string,updated:bigint,url:string>, type: string]"
          },
          "metadata": {}
        }
      ],
      "execution_count": 9,
      "metadata": {}
    },
    {
      "cell_type": "code",
      "source": [
        "df.head()"
      ],
      "outputs": [
        {
          "output_type": "display_data",
          "data": {
            "application/vnd.livy.statement-meta+json": {
              "spark_pool": "synapsesApache",
              "statement_id": 11,
              "statement_ids": [
                11
              ],
              "state": "finished",
              "livy_statement_state": "available",
              "spark_jobs": null,
              "session_id": "7",
              "normalized_state": "finished",
              "queued_time": "2025-04-04T18:00:32.9661734Z",
              "session_start_time": null,
              "execution_start_time": "2025-04-04T18:00:32.9674034Z",
              "execution_finish_time": "2025-04-04T18:00:36.9859193Z",
              "parent_msg_id": "647c7240-1065-40b7-9a96-57ecc7f82896"
            },
            "text/plain": "StatementMeta(synapsesApache, 7, 11, Finished, Available, Finished)"
          },
          "metadata": {}
        },
        {
          "output_type": "execute_result",
          "execution_count": 23,
          "data": {
            "text/plain": "Row(geometry=Row(coordinates=[49.9597, 27.3505, 10.0], type='Point'), id='us6000q3ua', properties=Row(cdi=3.8, code='6000q3ua', detail='https://earthquake.usgs.gov/fdsnws/event/1/query?eventid=us6000q3ua&format=geojson', dmin=5.546, felt=6, gap=72.0, ids=',us6000q3ua,', mag=4.4, magType='mb', net='us', nst=47, place='49 km NE of Al Jubayl, Saudi Arabia', rms=0.69, sig=300, sources=',us,', status='reviewed', time=1743723576440, title='M 4.4 - 49 km NE of Al Jubayl, Saudi Arabia', tsunami=0, type='earthquake', types=',dyfi,origin,phase-data,', updated=1743771830285, url='https://earthquake.usgs.gov/earthquakes/eventpage/us6000q3ua'), type='Feature')"
          },
          "metadata": {}
        }
      ],
      "execution_count": 10,
      "metadata": {}
    },
    {
      "cell_type": "code",
      "source": [
        "# Reshape earthquake data\n",
        "df = (\n",
        "    df\n",
        "    .select(\n",
        "        'id',\n",
        "        col('geometry.coordinates').getItem(0).alias('longitude'),\n",
        "        col('geometry.coordinates').getItem(1).alias('latitude'),\n",
        "        col('geometry.coordinates').getItem(2).alias('elevation'),\n",
        "        col('properties.title').alias('title'),\n",
        "        col('properties.place').alias('place_description'),\n",
        "        col('properties.sig').alias('sig'),\n",
        "        col('properties.mag').alias('mag'),\n",
        "        col('properties.magType').alias('magType'),\n",
        "        col('properties.time').alias('time'),\n",
        "        col('properties.updated').alias('updated')\n",
        "    )\n",
        ")"
      ],
      "outputs": [
        {
          "output_type": "display_data",
          "data": {
            "application/vnd.livy.statement-meta+json": {
              "spark_pool": "synapsesApache",
              "statement_id": 12,
              "statement_ids": [
                12
              ],
              "state": "finished",
              "livy_statement_state": "available",
              "spark_jobs": null,
              "session_id": "7",
              "normalized_state": "finished",
              "queued_time": "2025-04-04T18:00:35.6950114Z",
              "session_start_time": null,
              "execution_start_time": "2025-04-04T18:00:36.9973075Z",
              "execution_finish_time": "2025-04-04T18:00:37.2045216Z",
              "parent_msg_id": "3ae738ee-ce0e-45eb-879d-dd6edf39b8f9"
            },
            "text/plain": "StatementMeta(synapsesApache, 7, 12, Finished, Available, Finished)"
          },
          "metadata": {}
        }
      ],
      "execution_count": 11,
      "metadata": {}
    },
    {
      "cell_type": "code",
      "source": [
        "df"
      ],
      "outputs": [
        {
          "output_type": "display_data",
          "data": {
            "application/vnd.livy.statement-meta+json": {
              "spark_pool": "synapsesApache",
              "statement_id": 13,
              "statement_ids": [
                13
              ],
              "state": "finished",
              "livy_statement_state": "available",
              "spark_jobs": null,
              "session_id": "7",
              "normalized_state": "finished",
              "queued_time": "2025-04-04T18:00:40.9571985Z",
              "session_start_time": null,
              "execution_start_time": "2025-04-04T18:00:40.9583673Z",
              "execution_finish_time": "2025-04-04T18:00:41.1759877Z",
              "parent_msg_id": "7333675f-c142-4b20-bdb3-14cfbe14acff"
            },
            "text/plain": "StatementMeta(synapsesApache, 7, 13, Finished, Available, Finished)"
          },
          "metadata": {}
        },
        {
          "output_type": "execute_result",
          "execution_count": 27,
          "data": {
            "text/plain": "DataFrame[id: string, longitude: double, latitude: double, elevation: double, title: string, place_description: string, sig: bigint, mag: double, magType: string, time: bigint, updated: bigint]"
          },
          "metadata": {}
        }
      ],
      "execution_count": 12,
      "metadata": {}
    },
    {
      "cell_type": "code",
      "source": [
        "df.head()"
      ],
      "outputs": [
        {
          "output_type": "display_data",
          "data": {
            "application/vnd.livy.statement-meta+json": {
              "spark_pool": "synapsesApache",
              "statement_id": 14,
              "statement_ids": [
                14
              ],
              "state": "finished",
              "livy_statement_state": "available",
              "spark_jobs": null,
              "session_id": "7",
              "normalized_state": "finished",
              "queued_time": "2025-04-04T18:00:45.1064193Z",
              "session_start_time": null,
              "execution_start_time": "2025-04-04T18:00:45.1076499Z",
              "execution_finish_time": "2025-04-04T18:00:47.9175036Z",
              "parent_msg_id": "eaf03eb8-9a78-43a8-8d31-05679e84ddcf"
            },
            "text/plain": "StatementMeta(synapsesApache, 7, 14, Finished, Available, Finished)"
          },
          "metadata": {}
        },
        {
          "output_type": "execute_result",
          "execution_count": 29,
          "data": {
            "text/plain": "Row(id='us6000q3ua', longitude=49.9597, latitude=27.3505, elevation=10.0, title='M 4.4 - 49 km NE of Al Jubayl, Saudi Arabia', place_description='49 km NE of Al Jubayl, Saudi Arabia', sig=300, mag=4.4, magType='mb', time=1743723576440, updated=1743771830285)"
          },
          "metadata": {}
        }
      ],
      "execution_count": 13,
      "metadata": {}
    },
    {
      "cell_type": "code",
      "source": [
        "# Validate data: Check for missing or null values\n",
        "df = (\n",
        "    df\n",
        "    .withColumn('longitude', when(isnull(col('longitude')), 0).otherwise(col('longitude')))\n",
        "    .withColumn('latitude', when(isnull(col('latitude')), 0).otherwise(col('latitude')))\n",
        "    .withColumn('time', when(isnull(col('time')), 0).otherwise(col('time')))\n",
        ")"
      ],
      "outputs": [
        {
          "output_type": "display_data",
          "data": {
            "application/vnd.livy.statement-meta+json": {
              "spark_pool": "synapsesApache",
              "statement_id": 15,
              "statement_ids": [
                15
              ],
              "state": "finished",
              "livy_statement_state": "available",
              "spark_jobs": null,
              "session_id": "7",
              "normalized_state": "finished",
              "queued_time": "2025-04-04T18:00:52.2562659Z",
              "session_start_time": null,
              "execution_start_time": "2025-04-04T18:00:52.257496Z",
              "execution_finish_time": "2025-04-04T18:00:52.4736824Z",
              "parent_msg_id": "475b1756-b77d-4d28-a327-84e052bd9773"
            },
            "text/plain": "StatementMeta(synapsesApache, 7, 15, Finished, Available, Finished)"
          },
          "metadata": {}
        }
      ],
      "execution_count": 14,
      "metadata": {}
    },
    {
      "cell_type": "code",
      "source": [
        "# Convert 'time' and 'updated' to timestamp from Unix time\n",
        "df = (\n",
        "    df\n",
        "    .withColumn('time', (col('time') / 1000).cast(TimestampType()))\n",
        "    .withColumn('updated', (col('updated') / 1000).cast(TimestampType()))\n",
        ")"
      ],
      "outputs": [
        {
          "output_type": "display_data",
          "data": {
            "application/vnd.livy.statement-meta+json": {
              "spark_pool": "synapsesApache",
              "statement_id": 16,
              "statement_ids": [
                16
              ],
              "state": "finished",
              "livy_statement_state": "available",
              "spark_jobs": null,
              "session_id": "7",
              "normalized_state": "finished",
              "queued_time": "2025-04-04T18:00:56.043364Z",
              "session_start_time": null,
              "execution_start_time": "2025-04-04T18:00:56.0446228Z",
              "execution_finish_time": "2025-04-04T18:00:56.2591878Z",
              "parent_msg_id": "2541992f-8c45-4d92-ab6e-480a364a6f05"
            },
            "text/plain": "StatementMeta(synapsesApache, 7, 16, Finished, Available, Finished)"
          },
          "metadata": {}
        }
      ],
      "execution_count": 15,
      "metadata": {}
    },
    {
      "cell_type": "code",
      "source": [
        "df.head()"
      ],
      "outputs": [
        {
          "output_type": "display_data",
          "data": {
            "application/vnd.livy.statement-meta+json": {
              "spark_pool": "synapsesApache",
              "statement_id": 17,
              "statement_ids": [
                17
              ],
              "state": "finished",
              "livy_statement_state": "available",
              "spark_jobs": null,
              "session_id": "7",
              "normalized_state": "finished",
              "queued_time": "2025-04-04T18:01:00.1055807Z",
              "session_start_time": null,
              "execution_start_time": "2025-04-04T18:01:00.1068056Z",
              "execution_finish_time": "2025-04-04T18:01:01.9795539Z",
              "parent_msg_id": "6991e7ab-a04d-4cd2-b12c-be0898d51f19"
            },
            "text/plain": "StatementMeta(synapsesApache, 7, 17, Finished, Available, Finished)"
          },
          "metadata": {}
        },
        {
          "output_type": "execute_result",
          "execution_count": 35,
          "data": {
            "text/plain": "Row(id='us6000q3ua', longitude=49.9597, latitude=27.3505, elevation=10.0, title='M 4.4 - 49 km NE of Al Jubayl, Saudi Arabia', place_description='49 km NE of Al Jubayl, Saudi Arabia', sig=300, mag=4.4, magType='mb', time=datetime.datetime(2025, 4, 3, 23, 39, 36, 440000), updated=datetime.datetime(2025, 4, 4, 13, 3, 50, 285000))"
          },
          "metadata": {}
        }
      ],
      "execution_count": 16,
      "metadata": {}
    },
    {
      "cell_type": "code",
      "source": [
        "# Save the transformed DataFrame to the Silver container\n",
        "silver_data = f\"{silver_adls}earthquake_events_silver/\"\n",
        "\n",
        "# Append DataFrame to Silver container in Parquet format\n",
        "df.write.mode('append').parquet(silver_data)"
      ],
      "outputs": [
        {
          "output_type": "display_data",
          "data": {
            "application/vnd.livy.statement-meta+json": {
              "spark_pool": "synapsesApache",
              "statement_id": 18,
              "statement_ids": [
                18
              ],
              "state": "finished",
              "livy_statement_state": "available",
              "spark_jobs": null,
              "session_id": "7",
              "normalized_state": "finished",
              "queued_time": "2025-04-04T18:01:05.1606176Z",
              "session_start_time": null,
              "execution_start_time": "2025-04-04T18:01:05.1618725Z",
              "execution_finish_time": "2025-04-04T18:01:05.4171814Z",
              "parent_msg_id": "e35d3175-f5fa-4195-8bc4-eb89fae72c32"
            },
            "text/plain": "StatementMeta(synapsesApache, 7, 18, Finished, Available, Finished)"
          },
          "metadata": {}
        }
      ],
      "execution_count": 17,
      "metadata": {}
    },
    {
      "cell_type": "code",
      "source": [
        "# Use mssparkutils.notebook.exit() to pass the JSON output to the pipeline\n",
        "mssparkutils.notebook.exit(silver_data)"
      ],
      "outputs": [
        {
          "output_type": "display_data",
          "data": {
            "application/vnd.livy.statement-meta+json": {
              "spark_pool": "synapsesApache",
              "statement_id": 20,
              "statement_ids": [
                20
              ],
              "state": "finished",
              "livy_statement_state": "available",
              "spark_jobs": null,
              "session_id": "7",
              "normalized_state": "finished",
              "queued_time": "2025-04-04T18:01:26.8826488Z",
              "session_start_time": null,
              "execution_start_time": "2025-04-04T18:01:26.8838835Z",
              "execution_finish_time": "2025-04-04T18:01:27.0886737Z",
              "parent_msg_id": "ce431ca4-2de5-4d5d-ae88-561fb4828d36"
            },
            "text/plain": "StatementMeta(synapsesApache, 7, 20, Finished, Available, Finished)"
          },
          "metadata": {}
        },
        {
          "output_type": "stream",
          "name": "stdout",
          "text": [
            "ExitValue: abfss://silver@apistoragewem.dfs.core.windows.net/earthquake_events_silver/"
          ]
        }
      ],
      "execution_count": 19,
      "metadata": {}
    }
  ],
  "metadata": {
    "kernelspec": {
      "name": "synapse_pyspark",
      "language": "Python",
      "display_name": "Synapse PySpark"
    },
    "language_info": {
      "name": "python"
    },
    "kernel_info": {
      "name": "synapse_pyspark"
    },
    "description": null,
    "save_output": true,
    "synapse_widget": {
      "version": "0.1",
      "state": {}
    }
  },
  "nbformat": 4,
  "nbformat_minor": 2
}