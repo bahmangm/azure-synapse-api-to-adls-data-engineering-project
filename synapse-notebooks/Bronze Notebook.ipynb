{
  "cells": [
    {
      "cell_type": "code",
      "source": [
        "import requests\n",
        "import json\n",
        "from datetime import date, timedelta"
      ],
      "outputs": [],
      "execution_count": null,
      "metadata": {}
    },
    {
      "cell_type": "code",
      "source": [
        "# Mount ADLS Gen2\n",
        "# Required each time the cluster is restarted which should be only on the first notebook as they run in order\n",
        "\n",
        "tiers = [\"bronze\", \"silver\", \"gold\"]\n",
        "adls_paths = {tier: f\"abfss://{tier}@your_storage_account_name.dfs.core.windows.net/\" for tier in tiers}\n",
        "\n",
        "# Accessing paths\n",
        "bronze_adls = adls_paths[\"bronze\"]\n",
        "silver_adls = adls_paths[\"silver\"]\n",
        "gold_adls = adls_paths[\"gold\"]"
      ],
      "outputs": [
        {
          "output_type": "display_data",
          "data": {
            "application/vnd.livy.statement-meta+json": {
              "spark_pool": "synapsesApache",
              "statement_id": 2,
              "statement_ids": [
                2
              ],
              "state": "finished",
              "livy_statement_state": "available",
              "spark_jobs": null,
              "session_id": "6",
              "normalized_state": "finished",
              "queued_time": "2025-04-04T17:55:18.7467347Z",
              "session_start_time": "2025-04-04T17:55:18.7478077Z",
              "execution_start_time": "2025-04-04T17:56:32.4052383Z",
              "execution_finish_time": "2025-04-04T17:56:32.6635843Z",
              "parent_msg_id": "17b25f9e-27b4-48d2-aa2d-6b854ae5506a"
            },
            "text/plain": "StatementMeta(synapsesApache, 6, 2, Finished, Available, Finished)"
          },
          "metadata": {}
        }
      ],
      "execution_count": 1,
      "metadata": {}
    },
    {
      "cell_type": "code",
      "source": [
        "# files = mssparkutils.fs.ls(bronze_adls)\n",
        "# for file in files:\n",
        "#     print(file.name, file.isDir, file.isFile, file.path, file.size, file.modifyTime)"
      ],
      "outputs": [
        {
          "output_type": "display_data",
          "data": {
            "application/vnd.livy.statement-meta+json": {
              "spark_pool": "synapsesApache",
              "statement_id": 3,
              "statement_ids": [
                3
              ],
              "state": "finished",
              "livy_statement_state": "available",
              "spark_jobs": null,
              "session_id": "6",
              "normalized_state": "finished",
              "queued_time": "2025-04-04T17:55:18.750829Z",
              "session_start_time": null,
              "execution_start_time": "2025-04-04T17:56:32.6793879Z",
              "execution_finish_time": "2025-04-04T17:56:34.5763002Z",
              "parent_msg_id": "14f97bf6-811d-4d95-b544-30780cc87c76"
            },
            "text/plain": "StatementMeta(synapsesApache, 6, 3, Finished, Available, Finished)"
          },
          "metadata": {}
        },
        {
          "output_type": "stream",
          "name": "stdout",
          "text": [
            "2025-04-01_earthquake_data.json True False abfss://bronze@apistoragewem.dfs.core.windows.net/2025-04-01_earthquake_data.json 0 1743619791831\n"
          ]
        }
      ],
      "execution_count": 2,
      "metadata": {}
    },
    {
      "cell_type": "code",
      "source": [
        "start_date = date.today() - timedelta(1)\n",
        "end_date = date.today()\n",
        "start_date, end_date"
      ],
      "outputs": [
        {
          "output_type": "display_data",
          "data": {
            "application/vnd.livy.statement-meta+json": {
              "spark_pool": "synapsesApache",
              "statement_id": 5,
              "statement_ids": [
                5
              ],
              "state": "finished",
              "livy_statement_state": "available",
              "spark_jobs": null,
              "session_id": "6",
              "normalized_state": "finished",
              "queued_time": "2025-04-04T17:55:18.7608083Z",
              "session_start_time": null,
              "execution_start_time": "2025-04-04T17:56:35.2206269Z",
              "execution_finish_time": "2025-04-04T17:56:35.4500796Z",
              "parent_msg_id": "c11f1855-a6ec-42b5-bebf-fe0c0de71e47"
            },
            "text/plain": "StatementMeta(synapsesApache, 6, 5, Finished, Available, Finished)"
          },
          "metadata": {}
        }
      ],
      "execution_count": 4,
      "metadata": {}
    },
    {
      "cell_type": "code",
      "source": [
        "# Construct the API URL with start and end dates provided by Data Factory\n",
        "url = f\"https://earthquake.usgs.gov/fdsnws/event/1/query?format=geojson&starttime={start_date}&endtime={end_date}\"\n",
        "\n",
        "try:\n",
        "    # Make the GET request to fetch data\n",
        "    response = requests.get(url)\n",
        "\n",
        "    # Check if the request was successful\n",
        "    response.raise_for_status()  # Raise HTTPError for bad responses (4xx or 5xx)\n",
        "    data = response.json().get('features', [])\n",
        "\n",
        "    if not data:\n",
        "        print(\"No data returned for the specified date range.\")\n",
        "    else:\n",
        "        # Specify the ADLS path\n",
        "        file_path = f\"{bronze_adls}/{start_date}_earthquake_data.json\"\n",
        "\n",
        "        # Convert data to JSON string\n",
        "        json_data = json.dumps(data, indent=4)\n",
        "\n",
        "        # Write the JSON data to ADLS\n",
        "        # Create an RDD with the JSON string and parallelize it\n",
        "        rdd = spark.sparkContext.parallelize([json_data])\n",
        "\n",
        "        # Convert RDD to DataFrame and write to ADLS\n",
        "        df = spark.read.json(rdd)\n",
        "        df.limit(3) # To speed up processing for tutorial\n",
        "        df.write.mode(\"overwrite\").json(file_path)\n",
        "\n",
        "        print(f\"Data successfully saved to {file_path}\")\n",
        "except requests.exceptions.RequestException as e:\n",
        "    print(f\"Error fetching data from API: {e}\")"
      ],
      "outputs": [
        {
          "output_type": "display_data",
          "data": {
            "application/vnd.livy.statement-meta+json": {
              "spark_pool": "synapsesApache",
              "statement_id": 7,
              "statement_ids": [
                7
              ],
              "state": "finished",
              "livy_statement_state": "available",
              "spark_jobs": null,
              "session_id": "6",
              "normalized_state": "finished",
              "queued_time": "2025-04-04T17:55:18.7687733Z",
              "session_start_time": null,
              "execution_start_time": "2025-04-04T17:56:35.6823189Z",
              "execution_finish_time": "2025-04-04T17:57:02.7599518Z",
              "parent_msg_id": "c32cd9c4-8336-41c2-8481-cd606425ff4c"
            },
            "text/plain": "StatementMeta(synapsesApache, 6, 7, Finished, Available, Finished)"
          },
          "metadata": {}
        },
        {
          "output_type": "stream",
          "name": "stdout",
          "text": [
            "Data successfully saved to abfss://bronze@apistoragewem.dfs.core.windows.net//2025-04-03_earthquake_data.json\n"
          ]
        }
      ],
      "execution_count": 6,
      "metadata": {}
    },
    {
      "cell_type": "code",
      "source": [
        "data[0]"
      ],
      "outputs": [
        {
          "output_type": "display_data",
          "data": {
            "application/vnd.livy.statement-meta+json": {
              "spark_pool": "synapsesApache",
              "statement_id": 8,
              "statement_ids": [
                8
              ],
              "state": "finished",
              "livy_statement_state": "available",
              "spark_jobs": null,
              "session_id": "6",
              "normalized_state": "finished",
              "queued_time": "2025-04-04T17:55:18.7770387Z",
              "session_start_time": null,
              "execution_start_time": "2025-04-04T17:57:02.7732117Z",
              "execution_finish_time": "2025-04-04T17:57:03.0414706Z",
              "parent_msg_id": "3333b8d8-e2c9-4940-a446-bd4d549b1b36"
            },
            "text/plain": "StatementMeta(synapsesApache, 6, 8, Finished, Available, Finished)"
          },
          "metadata": {}
        },
        {
          "output_type": "execute_result",
          "execution_count": 17,
          "data": {
            "text/plain": "{'type': 'Feature',\n 'properties': {'mag': 4.4,\n  'place': '49 km NE of Al Jubayl, Saudi Arabia',\n  'time': 1743723576440,\n  'updated': 1743771830285,\n  'tz': None,\n  'url': 'https://earthquake.usgs.gov/earthquakes/eventpage/us6000q3ua',\n  'detail': 'https://earthquake.usgs.gov/fdsnws/event/1/query?eventid=us6000q3ua&format=geojson',\n  'felt': 6,\n  'cdi': 3.8,\n  'mmi': None,\n  'alert': None,\n  'status': 'reviewed',\n  'tsunami': 0,\n  'sig': 300,\n  'net': 'us',\n  'code': '6000q3ua',\n  'ids': ',us6000q3ua,',\n  'sources': ',us,',\n  'types': ',dyfi,origin,phase-data,',\n  'nst': 47,\n  'dmin': 5.546,\n  'rms': 0.69,\n  'gap': 72,\n  'magType': 'mb',\n  'type': 'earthquake',\n  'title': 'M 4.4 - 49 km NE of Al Jubayl, Saudi Arabia'},\n 'geometry': {'type': 'Point', 'coordinates': [49.9597, 27.3505, 10]},\n 'id': 'us6000q3ua'}"
          },
          "metadata": {}
        }
      ],
      "execution_count": 7,
      "metadata": {}
    },
    {
      "cell_type": "code",
      "source": [
        "# Define your variables\n",
        "output_data = {\n",
        "    \"start_date\": start_date.isoformat(),\n",
        "    \"bronze_adls\": bronze_adls,\n",
        "    \"silver_adls\": silver_adls,\n",
        "    \"gold_adls\": gold_adls\n",
        "}\n",
        "\n",
        "# Serialize the dictionary to a JSON string\n",
        "bronze_output = json.dumps(output_data)\n",
        "# print(bronze_output)\n",
        "\n",
        "# Use mssparkutils.notebook.exit() to pass the JSON output to the pipeline\n",
        "mssparkutils.notebook.exit(bronze_output)"
      ],
      "outputs": [
        {
          "output_type": "display_data",
          "data": {
            "application/vnd.livy.statement-meta+json": {
              "spark_pool": "synapsesApache",
              "statement_id": 9,
              "statement_ids": [
                9
              ],
              "state": "finished",
              "livy_statement_state": "available",
              "spark_jobs": null,
              "session_id": "6",
              "normalized_state": "finished",
              "queued_time": "2025-04-04T17:55:18.7807605Z",
              "session_start_time": null,
              "execution_start_time": "2025-04-04T17:57:03.0515832Z",
              "execution_finish_time": "2025-04-04T17:57:03.6507224Z",
              "parent_msg_id": "b6b7af75-a7a5-4c53-8fae-2fb46b4a86b2"
            },
            "text/plain": "StatementMeta(synapsesApache, 6, 9, Finished, Available, Finished)"
          },
          "metadata": {}
        },
        {
          "output_type": "stream",
          "name": "stdout",
          "text": [
            "{\"start_date\": \"2025-04-03\", \"bronze_adls\": \"abfss://bronze@apistoragewem.dfs.core.windows.net/\", \"silver_adls\": \"abfss://silver@apistoragewem.dfs.core.windows.net/\", \"gold_adls\": \"abfss://gold@apistoragewem.dfs.core.windows.net/\"}\nExitValue: {\"start_date\": \"2025-04-03\", \"bronze_adls\": \"abfss://bronze@apistoragewem.dfs.core.windows.net/\", \"silver_adls\": \"abfss://silver@apistoragewem.dfs.core.windows.net/\", \"gold_adls\": \"abfss://gold@apistoragewem.dfs.core.windows.net/\"}"
          ]
        }
      ],
      "execution_count": 8,
      "metadata": {}
    }
  ],
  "metadata": {
    "kernelspec": {
      "name": "synapse_pyspark",
      "display_name": "python"
    },
    "language_info": {
      "name": "python"
    },
    "description": null,
    "save_output": true,
    "synapse_widget": {
      "version": "0.1",
      "state": {}
    }
  },
  "nbformat": 4,
  "nbformat_minor": 2
}